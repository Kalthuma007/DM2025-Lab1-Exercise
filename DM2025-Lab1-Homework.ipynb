{
 "cells": [
  {
   "cell_type": "markdown",
   "metadata": {},
   "source": [
    "### Student Information\n",
    "Name: Kaltun Mustafe Mohamed\n",
    "\n",
    "Student ID:611421418\n",
    "\n",
    "GitHub ID:Kalthuma007"
   ]
  },
  {
   "cell_type": "markdown",
   "metadata": {},
   "source": [
    "---"
   ]
  },
  {
   "cell_type": "markdown",
   "metadata": {},
   "source": [
    "### Instructions"
   ]
  },
  {
   "cell_type": "markdown",
   "metadata": {},
   "source": [
    "### First Phase Submission"
   ]
  },
  {
   "cell_type": "markdown",
   "metadata": {},
   "source": [
    "1. First: do the **take home** exercises in the [DM2025-Lab1-Master](https://github.com/leoson-wu/DM2025-Lab1-Exercise/blob/main/DM2025-Lab1-Master.ipynb) that considered as **phase 1 (from exercise 1 to exercise 15)**. You can answer in the master file. __This part is worth 10% of your grade.__\n",
    "\n",
    "\n",
    "2. Second: follow the same process from the [DM2025-Lab1-Master](https://github.com/leoson-wu/DM2025-Lab1-Exercise/blob/main/DM2025-Lab1-Master.ipynb) on **the new dataset** up **until phase 1**. You can skip some exercises if you think some steps are not necessary. However main exercises should be completed. You don't need to explain all details as we did (some **minimal comments** explaining your code are useful though).  __This part is worth 15% of your grade.__\n",
    "    -  Use [the new dataset](https://github.com/leoson-wu/DM2025-Lab1-Exercise/blob/main/newdataset/Reddit-stock-sentiment.csv). The dataset contains a 16 columns including 'text' and 'label', with the sentiment labels being: 1.0 is positive, 0.0 is neutral and -1.0 is negative. You can simplify the dataset and use only the columns that you think are necessary. \n",
    "    \n",
    "    - You are allowed to use and modify the `helper` functions in the folder of the first lab session (notice they may need modification) or create your own.\n",
    "    - Use this file to complete the homework from the second part. Make sure the code can be run from the beginning till the end and has all the needed output.\n",
    "\n",
    "\n",
    "3. Third: please attempt the following tasks on **the new dataset**. __This part is worth 10% of your grade.__\n",
    "    - Generate meaningful **new data visualizations**. Refer to online resources and the Data Mining textbook for inspiration and ideas. \n",
    "    \n",
    "\n",
    "\n",
    "4. Fourth: It's hard for us to follow if your code is messy, so please **tidy up your notebook** and **add minimal comments where needed**. __This part is worth 5% of your grade.__\n",
    "\n",
    "You can submit your homework following these guidelines: [DM2025-Lab1-announcement](https://github.com/leoson-wu/DM2025-Lab1-Announcement/blob/main/README.md). Make sure to commit and save your changes to your repository __BEFORE the deadline (September 28th 11:59 pm, Sunday)__. "
   ]
  },
  {
   "cell_type": "markdown",
   "metadata": {},
   "source": [
    "### Second Phase Submission "
   ]
  },
  {
   "cell_type": "markdown",
   "metadata": {},
   "source": [
    "**You can keep the answer for phase 1 for easier running and update the phase 2 on the same page.**\n",
    "\n",
    "1. First: Continue doing the **take home** exercises in the [DM2025-Lab1-Master](https://github.com/leoson-wu/DM2025-Lab1-Exercise/blob/main/DM2025-Lab1-Master.ipynb) for **phase 2, starting from Finding frequent patterns**. Use the same master(.ipynb) file. Answer from phase 1 will not be considered at this stage. You can answer in the master file. __This part is worth 10% of your grade.__\n",
    "\n",
    "\n",
    "2. Second: Continue from first phase and do the same process from the [DM2025-Lab1-Master](https://github.com/leoson-wu/DM2025-Lab1-Exercise/blob/main/DM2025-Lab1-Master.ipynb) on **the new dataset** for phase 2, starting from Finding frequent pattern. You can skip some exercises if you think some steps are not necessary. However main exercises should be completed. You don't need to explain all details as we did (some **minimal comments** explaining your code are useful though).  __This part is worth 15% of your grade.__\n",
    "    - Continue using this file to complete the homework from the second part. Make sure the code can be run from the beginning till the end and has all the needed output. Use the same new dataset as in phase 1.\n",
    "    \n",
    "    - You are allowed to use and modify the `helper` functions in the folder of the first lab session (notice they may need modification) or create your own.\n",
    "\n",
    "3. Third: please attempt the following tasks on **the new dataset**. __This part is worth 20% of your grade.__\n",
    "    - Use this file to answer.\n",
    "    - Generate **TF-IDF features** from the tokens of each text. This will generating a document matrix, however, the weights will be computed differently (using the TF-IDF value of each word per document as opposed to the word frequency).  Refer to this Scikit-learn [guide](http://scikit-learn.org/stable/modules/generated/sklearn.feature_extraction.text.TfidfVectorizer.html) .\n",
    "    - Implement a simple **Naive Bayes classifier** that automatically classifies the records into their categories. Use both the TF-IDF features and word frequency features to build two seperate classifiers. Note that for the TF-IDF features you might need to use other type of NB classifier different than the one in the Master Notebook. Comment on the differences and when using augmentation with feature pattern.  Refer to this [article](https://hub.packtpub.com/implementing-3-naive-bayes-classifiers-in-scikit-learn/).\n",
    "\n",
    "\n",
    "4. Fourth: In the lab, we applied each step really quickly just to illustrate how to work with your dataset. There are somethings that are not ideal or the most efficient/meaningful. Each dataset can be handled differently as well. What are those inefficent parts you noticed? How can you improve the Data preprocessing for these specific datasets? __This part is worth 10% of your grade.__\n",
    "\n",
    "\n",
    "5. Fifth: It's hard for us to follow if your code is messy, so please **tidy up your notebook** and **add minimal comments where needed**. __This part is worth 5% of your grade.__\n",
    "\n",
    "\n",
    "You can submit your homework following these guidelines: [DM2025-Lab1-announcement](https://github.com/leoson-wu/DM2025-Lab1-Announcement/blob/main/README.md). Make sure to commit and save your changes to your repository __BEFORE the deadline (October 19th 11:59 pm, Sunday)__. "
   ]
  },
  {
   "cell_type": "markdown",
   "metadata": {},
   "source": [
    "# Phase 1"
   ]
  },
  {
   "cell_type": "code",
   "execution_count": 32,
   "metadata": {},
   "outputs": [],
   "source": [
    "### Begin Assignment Here"
   ]
  },
  {
   "cell_type": "code",
   "execution_count": 122,
   "metadata": {},
   "outputs": [
    {
     "name": "stderr",
     "output_type": "stream",
     "text": [
      "[nltk_data] Downloading package punkt to\n",
      "[nltk_data]     /Users/kaltunmustafemohamed/nltk_data...\n",
      "[nltk_data]   Package punkt is already up-to-date!\n"
     ]
    }
   ],
   "source": [
    "# Phase 1 - Exercise 1: Import necessary libraries\n",
    "# Phase 1 - Exercise 1: Import necessary libraries\n",
    "# --- SSL fix for Mac when downloading datasets ---\n",
    "import ssl\n",
    "import certifi\n",
    "ssl._create_default_https_context = lambda: ssl.create_default_context(cafile=certifi.where())\n",
    "\n",
    "# --- Standard libraries ---\n",
    "import pandas as pd\n",
    "import numpy as np\n",
    "import math\n",
    "import nltk\n",
    "\n",
    "# Download necessary NLTK datasets\n",
    "nltk.download('punkt')\n",
    "\n",
    "# --- Scikit-learn and data ---\n",
    "from sklearn.datasets import fetch_20newsgroups\n",
    "from sklearn.feature_extraction.text import CountVectorizer, TfidfVectorizer\n",
    "from sklearn.model_selection import train_test_split\n",
    "from sklearn.naive_bayes import MultinomialNB, BernoulliNB\n",
    "from sklearn.tree import DecisionTreeClassifier\n",
    "from sklearn.metrics import classification_report, accuracy_score\n",
    "from sklearn.metrics.pairwise import cosine_similarity\n",
    "\n",
    "# --- Visualization ---\n",
    "import seaborn as sns\n",
    "import matplotlib.pyplot as plt\n",
    "import plotly as py\n",
    "\n",
    "\n",
    "# --- Additional libraries ---\n",
    "import umap\n"
   ]
  },
  {
   "cell_type": "code",
   "execution_count": 123,
   "metadata": {},
   "outputs": [
    {
     "data": {
      "text/html": [
       "<div>\n",
       "<style scoped>\n",
       "    .dataframe tbody tr th:only-of-type {\n",
       "        vertical-align: middle;\n",
       "    }\n",
       "\n",
       "    .dataframe tbody tr th {\n",
       "        vertical-align: top;\n",
       "    }\n",
       "\n",
       "    .dataframe thead th {\n",
       "        text-align: right;\n",
       "    }\n",
       "</style>\n",
       "<table border=\"1\" class=\"dataframe\">\n",
       "  <thead>\n",
       "    <tr style=\"text-align: right;\">\n",
       "      <th></th>\n",
       "      <th>Text</th>\n",
       "      <th>Sentiment</th>\n",
       "    </tr>\n",
       "  </thead>\n",
       "  <tbody>\n",
       "    <tr>\n",
       "      <th>0</th>\n",
       "      <td>Calls on retards</td>\n",
       "      <td>-1.0</td>\n",
       "    </tr>\n",
       "    <tr>\n",
       "      <th>1</th>\n",
       "      <td>Stunt as in like why did they even make a big ...</td>\n",
       "      <td>0.0</td>\n",
       "    </tr>\n",
       "    <tr>\n",
       "      <th>2</th>\n",
       "      <td>Seeing lots of red in the ticker.</td>\n",
       "      <td>0.0</td>\n",
       "    </tr>\n",
       "    <tr>\n",
       "      <th>3</th>\n",
       "      <td>Vision Marine Technologies Inc. is rewriting t...</td>\n",
       "      <td>1.0</td>\n",
       "    </tr>\n",
       "    <tr>\n",
       "      <th>4</th>\n",
       "      <td>He didn’t say thank you.</td>\n",
       "      <td>-1.0</td>\n",
       "    </tr>\n",
       "  </tbody>\n",
       "</table>\n",
       "</div>"
      ],
      "text/plain": [
       "                                                Text  Sentiment\n",
       "0                                   Calls on retards       -1.0\n",
       "1  Stunt as in like why did they even make a big ...        0.0\n",
       "2                  Seeing lots of red in the ticker.        0.0\n",
       "3  Vision Marine Technologies Inc. is rewriting t...        1.0\n",
       "4                           He didn’t say thank you.       -1.0"
      ]
     },
     "execution_count": 123,
     "metadata": {},
     "output_type": "execute_result"
    }
   ],
   "source": [
    "# phase 1 Exercise 2--- Load and prepare dataset ---\n",
    "\n",
    "# Load the CSV dataset\n",
    "df = pd.read_csv(\"newdataset/Reddit-stock-sentiment.csv\")\n",
    "\n",
    "# Keep only the columns needed for sentiment analysis\n",
    "df = df[['text', 'label']]\n",
    "\n",
    "# Rename columns for clarity\n",
    "df.columns = ['Text', 'Sentiment']\n",
    "\n",
    "# Display the first 5 records to check\n",
    "df.head()\n",
    "\n"
   ]
  },
  {
   "cell_type": "code",
   "execution_count": 124,
   "metadata": {},
   "outputs": [
    {
     "name": "stdout",
     "output_type": "stream",
     "text": [
      "Dataset shape: (847, 2)\n",
      "\n",
      "Data types:\n",
      " Text          object\n",
      "Sentiment    float64\n",
      "dtype: object\n",
      "\n",
      "Unique sentiment values: [-1.  0.  1.]\n"
     ]
    },
    {
     "data": {
      "text/html": [
       "<div>\n",
       "<style scoped>\n",
       "    .dataframe tbody tr th:only-of-type {\n",
       "        vertical-align: middle;\n",
       "    }\n",
       "\n",
       "    .dataframe tbody tr th {\n",
       "        vertical-align: top;\n",
       "    }\n",
       "\n",
       "    .dataframe thead th {\n",
       "        text-align: right;\n",
       "    }\n",
       "</style>\n",
       "<table border=\"1\" class=\"dataframe\">\n",
       "  <thead>\n",
       "    <tr style=\"text-align: right;\">\n",
       "      <th></th>\n",
       "      <th>Sentiment</th>\n",
       "    </tr>\n",
       "  </thead>\n",
       "  <tbody>\n",
       "    <tr>\n",
       "      <th>count</th>\n",
       "      <td>847.000000</td>\n",
       "    </tr>\n",
       "    <tr>\n",
       "      <th>mean</th>\n",
       "      <td>-0.243211</td>\n",
       "    </tr>\n",
       "    <tr>\n",
       "      <th>std</th>\n",
       "      <td>0.664801</td>\n",
       "    </tr>\n",
       "    <tr>\n",
       "      <th>min</th>\n",
       "      <td>-1.000000</td>\n",
       "    </tr>\n",
       "    <tr>\n",
       "      <th>25%</th>\n",
       "      <td>-1.000000</td>\n",
       "    </tr>\n",
       "    <tr>\n",
       "      <th>50%</th>\n",
       "      <td>0.000000</td>\n",
       "    </tr>\n",
       "    <tr>\n",
       "      <th>75%</th>\n",
       "      <td>0.000000</td>\n",
       "    </tr>\n",
       "    <tr>\n",
       "      <th>max</th>\n",
       "      <td>1.000000</td>\n",
       "    </tr>\n",
       "  </tbody>\n",
       "</table>\n",
       "</div>"
      ],
      "text/plain": [
       "        Sentiment\n",
       "count  847.000000\n",
       "mean    -0.243211\n",
       "std      0.664801\n",
       "min     -1.000000\n",
       "25%     -1.000000\n",
       "50%      0.000000\n",
       "75%      0.000000\n",
       "max      1.000000"
      ]
     },
     "execution_count": 124,
     "metadata": {},
     "output_type": "execute_result"
    }
   ],
   "source": [
    "# Phase 1 - Exercise 3: Inspect data\n",
    "print(\"Dataset shape:\", df.shape)\n",
    "print(\"\\nData types:\\n\", df.dtypes)\n",
    "print(\"\\nUnique sentiment values:\", df['Sentiment'].unique())\n",
    "\n",
    "# Display basic statistics\n",
    "df.describe()"
   ]
  },
  {
   "cell_type": "code",
   "execution_count": 125,
   "metadata": {},
   "outputs": [
    {
     "name": "stdout",
     "output_type": "stream",
     "text": [
      "Text         0\n",
      "Sentiment    0\n",
      "dtype: int64\n",
      "After dropping missing values, shape: (847, 2)\n"
     ]
    }
   ],
   "source": [
    "# Phase 1 - Exercise 4: Check for missing values\n",
    "print(df.isnull().sum())\n",
    "\n",
    "# Drop rows with missing values if any\n",
    "df = df.dropna()\n",
    "print(\"After dropping missing values, shape:\", df.shape)"
   ]
  },
  {
   "cell_type": "code",
   "execution_count": 126,
   "metadata": {},
   "outputs": [
    {
     "name": "stdout",
     "output_type": "stream",
     "text": [
      "Duplicate rows: 23\n",
      "After dropping duplicates, shape: (824, 2)\n"
     ]
    }
   ],
   "source": [
    "# Phase 1 - Exercise 5: Check for duplicate rows\n",
    "print(\"Duplicate rows:\", df.duplicated().sum())\n",
    "\n",
    "# Drop duplicates\n",
    "df = df.drop_duplicates()\n",
    "print(\"After dropping duplicates, shape:\", df.shape)\n"
   ]
  },
  {
   "cell_type": "code",
   "execution_count": 127,
   "metadata": {},
   "outputs": [
    {
     "data": {
      "text/html": [
       "<div>\n",
       "<style scoped>\n",
       "    .dataframe tbody tr th:only-of-type {\n",
       "        vertical-align: middle;\n",
       "    }\n",
       "\n",
       "    .dataframe tbody tr th {\n",
       "        vertical-align: top;\n",
       "    }\n",
       "\n",
       "    .dataframe thead th {\n",
       "        text-align: right;\n",
       "    }\n",
       "</style>\n",
       "<table border=\"1\" class=\"dataframe\">\n",
       "  <thead>\n",
       "    <tr style=\"text-align: right;\">\n",
       "      <th></th>\n",
       "      <th>Text</th>\n",
       "      <th>Sentiment</th>\n",
       "    </tr>\n",
       "  </thead>\n",
       "  <tbody>\n",
       "    <tr>\n",
       "      <th>623</th>\n",
       "      <td>Trump is using “Art of the Deal” tactics.  \\n\\...</td>\n",
       "      <td>0.0</td>\n",
       "    </tr>\n",
       "    <tr>\n",
       "      <th>175</th>\n",
       "      <td>So this is my fun portfolio atm\\n\\nRKLB - 42%\\...</td>\n",
       "      <td>1.0</td>\n",
       "    </tr>\n",
       "    <tr>\n",
       "      <th>68</th>\n",
       "      <td>Believe it or not calls and puts</td>\n",
       "      <td>0.0</td>\n",
       "    </tr>\n",
       "    <tr>\n",
       "      <th>169</th>\n",
       "      <td>Just stumbled upon some exciting news about St...</td>\n",
       "      <td>1.0</td>\n",
       "    </tr>\n",
       "    <tr>\n",
       "      <th>276</th>\n",
       "      <td>His sneakers, guitars, and cyrpto (i am not na...</td>\n",
       "      <td>0.0</td>\n",
       "    </tr>\n",
       "    <tr>\n",
       "      <th>336</th>\n",
       "      <td>China: \"We are going to build our future on sc...</td>\n",
       "      <td>1.0</td>\n",
       "    </tr>\n",
       "    <tr>\n",
       "      <th>831</th>\n",
       "      <td>Things will get better soon. Once those 9 tran...</td>\n",
       "      <td>1.0</td>\n",
       "    </tr>\n",
       "    <tr>\n",
       "      <th>87</th>\n",
       "      <td>You need to stop listening to the noise and th...</td>\n",
       "      <td>0.0</td>\n",
       "    </tr>\n",
       "    <tr>\n",
       "      <th>687</th>\n",
       "      <td>Trump inherited millions of dollars and is dum...</td>\n",
       "      <td>-1.0</td>\n",
       "    </tr>\n",
       "    <tr>\n",
       "      <th>733</th>\n",
       "      <td>/\\n\\nMasterful gambit, Mr. Bessent</td>\n",
       "      <td>0.0</td>\n",
       "    </tr>\n",
       "  </tbody>\n",
       "</table>\n",
       "</div>"
      ],
      "text/plain": [
       "                                                  Text  Sentiment\n",
       "623  Trump is using “Art of the Deal” tactics.  \\n\\...        0.0\n",
       "175  So this is my fun portfolio atm\\n\\nRKLB - 42%\\...        1.0\n",
       "68                    Believe it or not calls and puts        0.0\n",
       "169  Just stumbled upon some exciting news about St...        1.0\n",
       "276  His sneakers, guitars, and cyrpto (i am not na...        0.0\n",
       "336  China: \"We are going to build our future on sc...        1.0\n",
       "831  Things will get better soon. Once those 9 tran...        1.0\n",
       "87   You need to stop listening to the noise and th...        0.0\n",
       "687  Trump inherited millions of dollars and is dum...       -1.0\n",
       "733                 /\\n\\nMasterful gambit, Mr. Bessent        0.0"
      ]
     },
     "execution_count": 127,
     "metadata": {},
     "output_type": "execute_result"
    }
   ],
   "source": [
    "# Phase 1 - Exercise 6: Random sample of 10 records\n",
    "sample_df = df.sample(10, random_state=42)\n",
    "sample_df\n"
   ]
  },
  {
   "cell_type": "code",
   "execution_count": 128,
   "metadata": {},
   "outputs": [
    {
     "data": {
      "text/html": [
       "<div>\n",
       "<style scoped>\n",
       "    .dataframe tbody tr th:only-of-type {\n",
       "        vertical-align: middle;\n",
       "    }\n",
       "\n",
       "    .dataframe tbody tr th {\n",
       "        vertical-align: top;\n",
       "    }\n",
       "\n",
       "    .dataframe thead th {\n",
       "        text-align: right;\n",
       "    }\n",
       "</style>\n",
       "<table border=\"1\" class=\"dataframe\">\n",
       "  <thead>\n",
       "    <tr style=\"text-align: right;\">\n",
       "      <th></th>\n",
       "      <th>Text</th>\n",
       "      <th>Sentiment</th>\n",
       "    </tr>\n",
       "  </thead>\n",
       "  <tbody>\n",
       "    <tr>\n",
       "      <th>3</th>\n",
       "      <td>Vision Marine Technologies Inc. is rewriting t...</td>\n",
       "      <td>1.0</td>\n",
       "    </tr>\n",
       "    <tr>\n",
       "      <th>81</th>\n",
       "      <td>The cost of this was SPY going -20%. I’ll take...</td>\n",
       "      <td>1.0</td>\n",
       "    </tr>\n",
       "    <tr>\n",
       "      <th>169</th>\n",
       "      <td>Just stumbled upon some exciting news about St...</td>\n",
       "      <td>1.0</td>\n",
       "    </tr>\n",
       "    <tr>\n",
       "      <th>250</th>\n",
       "      <td>Hey everyone, i was looking into a new company...</td>\n",
       "      <td>1.0</td>\n",
       "    </tr>\n",
       "    <tr>\n",
       "      <th>331</th>\n",
       "      <td>ELVA is the future, imagine going to any resta...</td>\n",
       "      <td>1.0</td>\n",
       "    </tr>\n",
       "  </tbody>\n",
       "</table>\n",
       "</div>"
      ],
      "text/plain": [
       "                                                  Text  Sentiment\n",
       "3    Vision Marine Technologies Inc. is rewriting t...        1.0\n",
       "81   The cost of this was SPY going -20%. I’ll take...        1.0\n",
       "169  Just stumbled upon some exciting news about St...        1.0\n",
       "250  Hey everyone, i was looking into a new company...        1.0\n",
       "331  ELVA is the future, imagine going to any resta...        1.0"
      ]
     },
     "execution_count": 128,
     "metadata": {},
     "output_type": "execute_result"
    }
   ],
   "source": [
    "# Query every 10th record for positive sentiment\n",
    "# This is similar to the \"sci.med\" example in Lab 1\n",
    "\n",
    "positive_df = df[df['Sentiment'] == 1.0]  # Filter positive sentiment\n",
    "every_10th = positive_df.iloc[::10]       # Take every 10th record\n",
    "every_10th.head(5)                         # Show first 5 records"
   ]
  },
  {
   "cell_type": "code",
   "execution_count": 129,
   "metadata": {},
   "outputs": [
    {
     "data": {
      "text/html": [
       "<div>\n",
       "<style scoped>\n",
       "    .dataframe tbody tr th:only-of-type {\n",
       "        vertical-align: middle;\n",
       "    }\n",
       "\n",
       "    .dataframe tbody tr th {\n",
       "        vertical-align: top;\n",
       "    }\n",
       "\n",
       "    .dataframe thead th {\n",
       "        text-align: right;\n",
       "    }\n",
       "</style>\n",
       "<table border=\"1\" class=\"dataframe\">\n",
       "  <thead>\n",
       "    <tr style=\"text-align: right;\">\n",
       "      <th></th>\n",
       "      <th>Text</th>\n",
       "      <th>Sentiment</th>\n",
       "      <th>Text_Length</th>\n",
       "    </tr>\n",
       "  </thead>\n",
       "  <tbody>\n",
       "    <tr>\n",
       "      <th>0</th>\n",
       "      <td>Calls on retards</td>\n",
       "      <td>-1.0</td>\n",
       "      <td>16</td>\n",
       "    </tr>\n",
       "    <tr>\n",
       "      <th>1</th>\n",
       "      <td>Stunt as in like why did they even make a big ...</td>\n",
       "      <td>0.0</td>\n",
       "      <td>137</td>\n",
       "    </tr>\n",
       "    <tr>\n",
       "      <th>2</th>\n",
       "      <td>Seeing lots of red in the ticker.</td>\n",
       "      <td>0.0</td>\n",
       "      <td>33</td>\n",
       "    </tr>\n",
       "    <tr>\n",
       "      <th>3</th>\n",
       "      <td>Vision Marine Technologies Inc. is rewriting t...</td>\n",
       "      <td>1.0</td>\n",
       "      <td>1067</td>\n",
       "    </tr>\n",
       "    <tr>\n",
       "      <th>4</th>\n",
       "      <td>He didn’t say thank you.</td>\n",
       "      <td>-1.0</td>\n",
       "      <td>24</td>\n",
       "    </tr>\n",
       "  </tbody>\n",
       "</table>\n",
       "</div>"
      ],
      "text/plain": [
       "                                                Text  Sentiment  Text_Length\n",
       "0                                   Calls on retards       -1.0           16\n",
       "1  Stunt as in like why did they even make a big ...        0.0          137\n",
       "2                  Seeing lots of red in the ticker.        0.0           33\n",
       "3  Vision Marine Technologies Inc. is rewriting t...        1.0         1067\n",
       "4                           He didn’t say thank you.       -1.0           24"
      ]
     },
     "execution_count": 129,
     "metadata": {},
     "output_type": "execute_result"
    }
   ],
   "source": [
    "# Phase 1 - Exercise 7: Example of feature creation\n",
    "# Create a column for text length\n",
    "df['Text_Length'] = df['Text'].apply(len)\n",
    "\n",
    "# Check first 5 rows\n",
    "df.head()\n"
   ]
  },
  {
   "cell_type": "code",
   "execution_count": 130,
   "metadata": {},
   "outputs": [
    {
     "data": {
      "text/html": [
       "<div>\n",
       "<style scoped>\n",
       "    .dataframe tbody tr th:only-of-type {\n",
       "        vertical-align: middle;\n",
       "    }\n",
       "\n",
       "    .dataframe tbody tr th {\n",
       "        vertical-align: top;\n",
       "    }\n",
       "\n",
       "    .dataframe thead th {\n",
       "        text-align: right;\n",
       "    }\n",
       "</style>\n",
       "<table border=\"1\" class=\"dataframe\">\n",
       "  <thead>\n",
       "    <tr style=\"text-align: right;\">\n",
       "      <th></th>\n",
       "      <th>Text</th>\n",
       "      <th>Text_Length</th>\n",
       "    </tr>\n",
       "  </thead>\n",
       "  <tbody>\n",
       "    <tr>\n",
       "      <th>0</th>\n",
       "      <td>Calls on retards</td>\n",
       "      <td>16</td>\n",
       "    </tr>\n",
       "    <tr>\n",
       "      <th>1</th>\n",
       "      <td>Stunt as in like why did they even make a big ...</td>\n",
       "      <td>137</td>\n",
       "    </tr>\n",
       "    <tr>\n",
       "      <th>2</th>\n",
       "      <td>Seeing lots of red in the ticker.</td>\n",
       "      <td>33</td>\n",
       "    </tr>\n",
       "    <tr>\n",
       "      <th>3</th>\n",
       "      <td>Vision Marine Technologies Inc. is rewriting t...</td>\n",
       "      <td>1067</td>\n",
       "    </tr>\n",
       "    <tr>\n",
       "      <th>4</th>\n",
       "      <td>He didn’t say thank you.</td>\n",
       "      <td>24</td>\n",
       "    </tr>\n",
       "  </tbody>\n",
       "</table>\n",
       "</div>"
      ],
      "text/plain": [
       "                                                Text  Text_Length\n",
       "0                                   Calls on retards           16\n",
       "1  Stunt as in like why did they even make a big ...          137\n",
       "2                  Seeing lots of red in the ticker.           33\n",
       "3  Vision Marine Technologies Inc. is rewriting t...         1067\n",
       "4                           He didn’t say thank you.           24"
      ]
     },
     "execution_count": 130,
     "metadata": {},
     "output_type": "execute_result"
    }
   ],
   "source": [
    "# Phase 1 - Exercise 8: Selecting relevant features\n",
    "features = df[['Text', 'Text_Length']]\n",
    "target = df['Sentiment']\n",
    "\n",
    "features.head()\n"
   ]
  },
  {
   "cell_type": "code",
   "execution_count": 131,
   "metadata": {},
   "outputs": [
    {
     "data": {
      "text/html": [
       "<div>\n",
       "<style scoped>\n",
       "    .dataframe tbody tr th:only-of-type {\n",
       "        vertical-align: middle;\n",
       "    }\n",
       "\n",
       "    .dataframe tbody tr th {\n",
       "        vertical-align: top;\n",
       "    }\n",
       "\n",
       "    .dataframe thead th {\n",
       "        text-align: right;\n",
       "    }\n",
       "</style>\n",
       "<table border=\"1\" class=\"dataframe\">\n",
       "  <thead>\n",
       "    <tr style=\"text-align: right;\">\n",
       "      <th></th>\n",
       "      <th>Text</th>\n",
       "      <th>Sentiment</th>\n",
       "      <th>Text_Length</th>\n",
       "    </tr>\n",
       "  </thead>\n",
       "  <tbody>\n",
       "    <tr>\n",
       "      <th>0</th>\n",
       "      <td>calls on retards</td>\n",
       "      <td>-1.0</td>\n",
       "      <td>16</td>\n",
       "    </tr>\n",
       "    <tr>\n",
       "      <th>1</th>\n",
       "      <td>stunt as in like why did they even make a big ...</td>\n",
       "      <td>0.0</td>\n",
       "      <td>137</td>\n",
       "    </tr>\n",
       "    <tr>\n",
       "      <th>2</th>\n",
       "      <td>seeing lots of red in the ticker.</td>\n",
       "      <td>0.0</td>\n",
       "      <td>33</td>\n",
       "    </tr>\n",
       "    <tr>\n",
       "      <th>3</th>\n",
       "      <td>vision marine technologies inc. is rewriting t...</td>\n",
       "      <td>1.0</td>\n",
       "      <td>1067</td>\n",
       "    </tr>\n",
       "    <tr>\n",
       "      <th>4</th>\n",
       "      <td>he didn’t say thank you.</td>\n",
       "      <td>-1.0</td>\n",
       "      <td>24</td>\n",
       "    </tr>\n",
       "  </tbody>\n",
       "</table>\n",
       "</div>"
      ],
      "text/plain": [
       "                                                Text  Sentiment  Text_Length\n",
       "0                                   calls on retards       -1.0           16\n",
       "1  stunt as in like why did they even make a big ...        0.0          137\n",
       "2                  seeing lots of red in the ticker.        0.0           33\n",
       "3  vision marine technologies inc. is rewriting t...        1.0         1067\n",
       "4                           he didn’t say thank you.       -1.0           24"
      ]
     },
     "execution_count": 131,
     "metadata": {},
     "output_type": "execute_result"
    }
   ],
   "source": [
    "# Phase 1 - Exercise 9: Transform text to lowercase\n",
    "df['Text'] = df['Text'].str.lower()\n",
    "df.head()\n"
   ]
  },
  {
   "cell_type": "code",
   "execution_count": 132,
   "metadata": {},
   "outputs": [
    {
     "data": {
      "text/html": [
       "<div>\n",
       "<style scoped>\n",
       "    .dataframe tbody tr th:only-of-type {\n",
       "        vertical-align: middle;\n",
       "    }\n",
       "\n",
       "    .dataframe tbody tr th {\n",
       "        vertical-align: top;\n",
       "    }\n",
       "\n",
       "    .dataframe thead th {\n",
       "        text-align: right;\n",
       "    }\n",
       "</style>\n",
       "<table border=\"1\" class=\"dataframe\">\n",
       "  <thead>\n",
       "    <tr style=\"text-align: right;\">\n",
       "      <th></th>\n",
       "      <th>Text</th>\n",
       "      <th>Sentiment</th>\n",
       "      <th>Text_Length</th>\n",
       "      <th>Tokens</th>\n",
       "    </tr>\n",
       "  </thead>\n",
       "  <tbody>\n",
       "    <tr>\n",
       "      <th>0</th>\n",
       "      <td>calls on retards</td>\n",
       "      <td>-1.0</td>\n",
       "      <td>16</td>\n",
       "      <td>[calls, on, retards]</td>\n",
       "    </tr>\n",
       "    <tr>\n",
       "      <th>1</th>\n",
       "      <td>stunt as in like why did they even make a big ...</td>\n",
       "      <td>0.0</td>\n",
       "      <td>137</td>\n",
       "      <td>[stunt, as, in, like, why, did, they, even, ma...</td>\n",
       "    </tr>\n",
       "    <tr>\n",
       "      <th>2</th>\n",
       "      <td>seeing lots of red in the ticker.</td>\n",
       "      <td>0.0</td>\n",
       "      <td>33</td>\n",
       "      <td>[seeing, lots, of, red, in, the, ticker, .]</td>\n",
       "    </tr>\n",
       "    <tr>\n",
       "      <th>3</th>\n",
       "      <td>vision marine technologies inc. is rewriting t...</td>\n",
       "      <td>1.0</td>\n",
       "      <td>1067</td>\n",
       "      <td>[vision, marine, technologies, inc., is, rewri...</td>\n",
       "    </tr>\n",
       "    <tr>\n",
       "      <th>4</th>\n",
       "      <td>he didn’t say thank you.</td>\n",
       "      <td>-1.0</td>\n",
       "      <td>24</td>\n",
       "      <td>[he, didn, ’, t, say, thank, you, .]</td>\n",
       "    </tr>\n",
       "  </tbody>\n",
       "</table>\n",
       "</div>"
      ],
      "text/plain": [
       "                                                Text  Sentiment  Text_Length  \\\n",
       "0                                   calls on retards       -1.0           16   \n",
       "1  stunt as in like why did they even make a big ...        0.0          137   \n",
       "2                  seeing lots of red in the ticker.        0.0           33   \n",
       "3  vision marine technologies inc. is rewriting t...        1.0         1067   \n",
       "4                           he didn’t say thank you.       -1.0           24   \n",
       "\n",
       "                                              Tokens  \n",
       "0                               [calls, on, retards]  \n",
       "1  [stunt, as, in, like, why, did, they, even, ma...  \n",
       "2        [seeing, lots, of, red, in, the, ticker, .]  \n",
       "3  [vision, marine, technologies, inc., is, rewri...  \n",
       "4               [he, didn, ’, t, say, thank, you, .]  "
      ]
     },
     "execution_count": 132,
     "metadata": {},
     "output_type": "execute_result"
    }
   ],
   "source": [
    "# Phase 1 - Exercise 10: Tokenize text using NLTK\n",
    "from nltk.tokenize import word_tokenize\n",
    "\n",
    "df['Tokens'] = df['Text'].apply(word_tokenize)\n",
    "df.head()\n"
   ]
  },
  {
   "cell_type": "code",
   "execution_count": 133,
   "metadata": {},
   "outputs": [
    {
     "name": "stdout",
     "output_type": "stream",
     "text": [
      "Shape of document-term matrix: (824, 4346)\n"
     ]
    }
   ],
   "source": [
    "# Phase 1 - Exercise 11: Convert text to numerical features\n",
    "vectorizer = CountVectorizer()\n",
    "X_counts = vectorizer.fit_transform(df['Text'])\n",
    "\n",
    "print(\"Shape of document-term matrix:\", X_counts.shape)\n"
   ]
  },
  {
   "cell_type": "code",
   "execution_count": 134,
   "metadata": {},
   "outputs": [
    {
     "name": "stdout",
     "output_type": "stream",
     "text": [
      "Train set shape: (659, 4346)\n",
      "Test set shape: (165, 4346)\n"
     ]
    }
   ],
   "source": [
    "# Phase 1 - Exercise 12: Split dataset into train and test sets\n",
    "X_train, X_test, y_train, y_test = train_test_split(\n",
    "    X_counts, df['Sentiment'], test_size=0.2, random_state=42\n",
    ")\n",
    "print(\"Train set shape:\", X_train.shape)\n",
    "print(\"Test set shape:\", X_test.shape)\n"
   ]
  },
  {
   "cell_type": "code",
   "execution_count": 135,
   "metadata": {},
   "outputs": [
    {
     "name": "stdout",
     "output_type": "stream",
     "text": [
      "Most common sentiment: 0.0\n",
      "Average text length: 146.99635922330097\n"
     ]
    }
   ],
   "source": [
    "# Phase 1 - Exercise 13: Simple statistics\n",
    "print(\"Most common sentiment:\", df['Sentiment'].mode()[0])\n",
    "print(\"Average text length:\", df['Text_Length'].mean())\n"
   ]
  },
  {
   "cell_type": "code",
   "execution_count": 136,
   "metadata": {},
   "outputs": [
    {
     "data": {
      "image/png": "[encoded data removed]",
      "text/plain": [
       "<Figure size 800x500 with 1 Axes>"
      ]
     },
     "metadata": {},
     "output_type": "display_data"
    },
    {
     "data": {
      "image/png": "[encoded data removed]",
      "text/plain": [
       "<Figure size 800x500 with 1 Axes>"
      ]
     },
     "metadata": {},
     "output_type": "display_data"
    }
   ],
   "source": [
    "# Phase 1 - Exercise 14: Visualize sentiment distribution with colors\n",
    "\n",
    "# Set Seaborn style\n",
    "sns.set_style(\"whitegrid\")\n",
    "\n",
    "# --- Sentiment Distribution ---\n",
    "plt.figure(figsize=(8,5))\n",
    "sns.countplot(\n",
    "    x='Sentiment', \n",
    "    data=df, \n",
    "    color='#6B5B95'  # Single color to avoid the palette warning\n",
    ")\n",
    "plt.title('Sentiment Distribution', fontsize=16, color='#34495E')\n",
    "plt.xlabel('Sentiment', fontsize=12)\n",
    "plt.ylabel('Count', fontsize=12)\n",
    "plt.show()\n",
    "\n",
    "# --- Text Length Distribution ---\n",
    "plt.figure(figsize=(8,5))\n",
    "sns.histplot(\n",
    "    df['Text_Length'], \n",
    "    bins=30, \n",
    "    color='#3498DB', \n",
    "    kde=True  # optional: adds density curve\n",
    ")\n",
    "plt.title('Text Length Distribution', fontsize=16, color='#34495E')\n",
    "plt.xlabel('Text Length', fontsize=12)\n",
    "plt.ylabel('Frequency', fontsize=12)\n",
    "plt.show()\n"
   ]
  },
  {
   "cell_type": "code",
   "execution_count": 137,
   "metadata": {},
   "outputs": [
    {
     "name": "stdout",
     "output_type": "stream",
     "text": [
      "Cleaned dataset saved\n"
     ]
    }
   ],
   "source": [
    "# Phase 1 - Exercise 15: Save cleaned dataset\n",
    "df.to_csv(\"Reddit-stock-sentiment-cleaned.csv\", index=False)\n",
    "print(\"Cleaned dataset saved\")\n"
   ]
  },
  {
   "cell_type": "markdown",
   "metadata": {},
   "source": [
    "# Phase 2"
   ]
  },
  {
   "cell_type": "code",
   "execution_count": 138,
   "metadata": {},
   "outputs": [],
   "source": [
    "### Begin Assignment Here"
   ]
  },
  {
   "cell_type": "code",
   "execution_count": 139,
   "metadata": {},
   "outputs": [],
   "source": [
    "# ======================================\n",
    "#  PHASE 2 - TEXT MINING & CLASSIFICATION\n",
    "# ======================================\n",
    "# Dataset: Phase 2 dataset (same as Phase 1)\n",
    "# Objective: Continue from Phase 1 – perform frequent pattern mining,\n",
    "# dimensionality reduction, binarization, and classification.\n",
    "# ======================================\n",
    "\n",
    "# --- Import all required libraries ---\n",
    "import ssl, certifi, tempfile, time, math\n",
    "import pandas as pd\n",
    "import numpy as np\n",
    "import seaborn as sns\n",
    "import matplotlib.pyplot as plt\n",
    "import plotly as py\n",
    "import umap\n",
    "\n",
    "# --- Scikit-learn tools ---\n",
    "from sklearn.model_selection import train_test_split\n",
    "from sklearn.feature_extraction.text import CountVectorizer, TfidfVectorizer\n",
    "from sklearn.naive_bayes import MultinomialNB, BernoulliNB\n",
    "from sklearn.tree import DecisionTreeClassifier\n",
    "from sklearn.metrics import classification_report, accuracy_score\n",
    "from sklearn.preprocessing import LabelBinarizer, binarize\n",
    "from sklearn.metrics.pairwise import cosine_similarity\n",
    "\n",
    "# --- PAMI frequent pattern mining tools ---\n",
    "from PAMI.frequentPattern.topk import FAE\n",
    "\n",
    "# Fix SSL on macOS\n",
    "ssl._create_default_https_context = lambda: ssl.create_default_context(cafile=certifi.where())\n"
   ]
  },
  {
   "cell_type": "markdown",
   "metadata": {},
   "source": [
    "## Exercise 16 – Finding Frequent Patterns\n"
   ]
  },
  {
   "cell_type": "code",
   "execution_count": 140,
   "metadata": {},
   "outputs": [
    {
     "name": "stdout",
     "output_type": "stream",
     "text": [
      " TopK frequent patterns were successfully generated using FAE algorithm.\n",
      "FAE Frequent Patterns Found: 300\n"
     ]
    },
    {
     "name": "stderr",
     "output_type": "stream",
     "text": [
      "/var/folders/6z/4mlvd88s7dbg464vrcdqyfmh0000gn/T/ipykernel_1050/1292320855.py:15: DeprecationWarning: Call to deprecated method startMine. (It is recommended to use 'mine()' instead of 'mine()' for mining process. Starting from January 2025, 'mine()' will be completely terminated.)\n",
      "  fae.startMine()\n"
     ]
    },
    {
     "data": {
      "text/html": [
       "<div>\n",
       "<style scoped>\n",
       "    .dataframe tbody tr th:only-of-type {\n",
       "        vertical-align: middle;\n",
       "    }\n",
       "\n",
       "    .dataframe tbody tr th {\n",
       "        vertical-align: top;\n",
       "    }\n",
       "\n",
       "    .dataframe thead th {\n",
       "        text-align: right;\n",
       "    }\n",
       "</style>\n",
       "<table border=\"1\" class=\"dataframe\">\n",
       "  <thead>\n",
       "    <tr style=\"text-align: right;\">\n",
       "      <th></th>\n",
       "      <th>Pattern</th>\n",
       "      <th>Support</th>\n",
       "    </tr>\n",
       "  </thead>\n",
       "  <tbody>\n",
       "    <tr>\n",
       "      <th>0</th>\n",
       "      <td>not great bob</td>\n",
       "      <td>2</td>\n",
       "    </tr>\n",
       "    <tr>\n",
       "      <th>1</th>\n",
       "      <td>calls on retards</td>\n",
       "      <td>1</td>\n",
       "    </tr>\n",
       "    <tr>\n",
       "      <th>2</th>\n",
       "      <td>stunt as in like why did they even make a big ...</td>\n",
       "      <td>1</td>\n",
       "    </tr>\n",
       "    <tr>\n",
       "      <th>3</th>\n",
       "      <td>seeing lots of red in the ticker.</td>\n",
       "      <td>1</td>\n",
       "    </tr>\n",
       "    <tr>\n",
       "      <th>4</th>\n",
       "      <td>vision marine technologies inc. is rewriting t...</td>\n",
       "      <td>1</td>\n",
       "    </tr>\n",
       "  </tbody>\n",
       "</table>\n",
       "</div>"
      ],
      "text/plain": [
       "                                             Pattern  Support\n",
       "0                                      not great bob        2\n",
       "1                                   calls on retards        1\n",
       "2  stunt as in like why did they even make a big ...        1\n",
       "3                  seeing lots of red in the ticker.        1\n",
       "4  vision marine technologies inc. is rewriting t...        1"
      ]
     },
     "execution_count": 140,
     "metadata": {},
     "output_type": "execute_result"
    }
   ],
   "source": [
    "from PAMI.frequentPattern.topk.FAE import FAE\n",
    "import tempfile\n",
    "\n",
    "# Prepare transactions from text column\n",
    "transactions = [text.split() for text in df['Text'].dropna().astype(str)]\n",
    "\n",
    "# Write transactions to a temporary file\n",
    "tmp_file = tempfile.NamedTemporaryFile(delete=False, mode='w', encoding='utf-8')\n",
    "for t in transactions:\n",
    "    tmp_file.write(' '.join(t) + '\\n')\n",
    "tmp_file.close()\n",
    "\n",
    "# Run FAE (Top-300 frequent patterns)\n",
    "fae = FAE(iFile=tmp_file.name, k=300)\n",
    "fae.startMine()\n",
    "\n",
    "# Retrieve patterns\n",
    "patterns = fae.getPatterns()\n",
    "\n",
    "print(\"FAE Frequent Patterns Found:\", len(patterns))\n",
    "pd.DataFrame(list(patterns.items()), columns=['Pattern', 'Support']).head()\n"
   ]
  },
  {
   "cell_type": "markdown",
   "metadata": {},
   "source": [
    "# Exercise 17 – Dimensionality Reduction (PCA, t-SNE, UMAP)"
   ]
  },
  {
   "cell_type": "code",
   "execution_count": 141,
   "metadata": {},
   "outputs": [
    {
     "data": {
      "image/png": "[encoded data removed]",
      "text/plain": [
       "<Figure size 1800x600 with 3 Axes>"
      ]
     },
     "metadata": {},
     "output_type": "display_data"
    }
   ],
   "source": [
    "from sklearn.decomposition import PCA\n",
    "from sklearn.manifold import TSNE\n",
    "\n",
    "# Example using CountVectorizer\n",
    "vectorizer = CountVectorizer(max_features=1000)\n",
    "X_tdm = vectorizer.fit_transform(df['Text'].dropna())\n",
    "\n",
    "# Reduce to 2D for visualization\n",
    "X_pca = PCA(n_components=2).fit_transform(X_tdm.toarray())\n",
    "X_tsne = TSNE(n_components=2).fit_transform(X_tdm.toarray())\n",
    "X_umap = umap.UMAP(n_components=2).fit_transform(X_tdm.toarray())\n",
    "\n",
    "# Plot the embeddings\n",
    "fig, axes = plt.subplots(1, 3, figsize=(18, 6))\n",
    "axes[0].scatter(X_pca[:, 0], X_pca[:, 1], s=10, color='coral')\n",
    "axes[1].scatter(X_tsne[:, 0], X_tsne[:, 1], s=10, color='blue')\n",
    "axes[2].scatter(X_umap[:, 0], X_umap[:, 1], s=10, color='green')\n",
    "axes[0].set_title('PCA'); axes[1].set_title('t-SNE'); axes[2].set_title('UMAP')\n",
    "plt.show()\n"
   ]
  },
  {
   "cell_type": "markdown",
   "metadata": {},
   "source": [
    "# Exercise 18 – Discretization and Binarization"
   ]
  },
  {
   "cell_type": "code",
   "execution_count": 142,
   "metadata": {},
   "outputs": [
    {
     "name": "stdout",
     "output_type": "stream",
     "text": [
      "Shape of binary matrix: (824, 1000)\n",
      "Cosine similarity (first 5 docs):\n",
      " [[1.         0.         0.         0.08084521 0.        ]\n",
      " [0.         1.         0.16116459 0.14927036 0.        ]\n",
      " [0.         0.16116459 1.         0.15877684 0.        ]\n",
      " [0.08084521 0.14927036 0.15877684 1.         0.        ]\n",
      " [0.         0.         0.         0.         1.        ]]\n"
     ]
    }
   ],
   "source": [
    "# Convert text matrix into binary (0 or 1)\n",
    "X_binary = binarize(X_tdm)\n",
    "print(\"Shape of binary matrix:\", X_binary.shape)\n",
    "\n",
    "# Example: compare cosine similarity between documents\n",
    "cos_sim = cosine_similarity(X_binary[:5])\n",
    "print(\"Cosine similarity (first 5 docs):\\n\", cos_sim)\n"
   ]
  },
  {
   "cell_type": "markdown",
   "metadata": {},
   "source": [
    "# Exercise 19 – Data Exploration"
   ]
  },
  {
   "cell_type": "code",
   "execution_count": 143,
   "metadata": {},
   "outputs": [
    {
     "data": {
      "image/png": "[encoded data removed]",
      "text/plain": [
       "<Figure size 800x500 with 1 Axes>"
      ]
     },
     "metadata": {},
     "output_type": "display_data"
    },
    {
     "data": {
      "image/png": "[encoded data removed]",
      "text/plain": [
       "<Figure size 800x500 with 1 Axes>"
      ]
     },
     "metadata": {},
     "output_type": "display_data"
    }
   ],
   "source": [
    "# Explore sentiment or category distributions\n",
    "sns.set_style(\"whitegrid\")\n",
    "plt.figure(figsize=(8,5))\n",
    "sns.countplot(x='Sentiment', data=df, color='#6B5B95')\n",
    "plt.title('Sentiment Distribution')\n",
    "plt.show()\n",
    "\n",
    "plt.figure(figsize=(8,5))\n",
    "sns.histplot(df['Text'].apply(len), bins=30, color='#3498DB', kde=True)\n",
    "plt.title('Text Length Distribution')\n",
    "plt.show()\n"
   ]
  },
  {
   "cell_type": "markdown",
   "metadata": {},
   "source": [
    "# Data Classification"
   ]
  },
  {
   "cell_type": "markdown",
   "metadata": {},
   "source": [
    " # Exercise 20 – Naive Bayes Classification (Original TDM)"
   ]
  },
  {
   "cell_type": "markdown",
   "metadata": {},
   "source": [
    "I trained a Multinomial Naive Bayes classifier using the word frequency matrix.  \n",
    "The model achieved 67% accuracy, performing best on neutral and negative classes, \n",
    "while struggling to identify positive sentiment due to data imbalance.\n"
   ]
  },
  {
   "cell_type": "code",
   "execution_count": 144,
   "metadata": {},
   "outputs": [
    {
     "name": "stdout",
     "output_type": "stream",
     "text": [
      "Accuracy: 0.6666666666666666\n",
      "\n",
      "Classification Report:\n",
      "               precision    recall  f1-score   support\n",
      "\n",
      "        -1.0       0.62      0.83      0.71        59\n",
      "         0.0       0.71      0.74      0.73        77\n",
      "         1.0       0.67      0.14      0.23        29\n",
      "\n",
      "    accuracy                           0.67       165\n",
      "   macro avg       0.67      0.57      0.55       165\n",
      "weighted avg       0.67      0.67      0.63       165\n",
      "\n"
     ]
    }
   ],
   "source": [
    "X_train, X_test, y_train, y_test = train_test_split(\n",
    "    X_tdm, df['Sentiment'], test_size=0.2, random_state=42\n",
    ")\n",
    "\n",
    "nb = MultinomialNB()\n",
    "nb.fit(X_train, y_train)\n",
    "y_pred = nb.predict(X_test)\n",
    "\n",
    "print(\"Accuracy:\", accuracy_score(y_test, y_pred))\n",
    "print(\"\\nClassification Report:\\n\", classification_report(y_test, y_pred))\n"
   ]
  },
  {
   "cell_type": "markdown",
   "metadata": {},
   "source": [
    " #  Exercise 21- Naive Bayes Classification (Augmented Data with Patterns)"
   ]
  },
  {
   "cell_type": "code",
   "execution_count": 145,
   "metadata": {},
   "outputs": [
    {
     "name": "stdout",
     "output_type": "stream",
     "text": [
      "Accuracy with Augmented Data: 0.6\n",
      "\n",
      "Classification Report:\n",
      "               precision    recall  f1-score   support\n",
      "\n",
      "        -1.0       0.56      0.85      0.68        59\n",
      "         0.0       0.68      0.61      0.64        77\n",
      "         1.0       0.29      0.07      0.11        29\n",
      "\n",
      "    accuracy                           0.60       165\n",
      "   macro avg       0.51      0.51      0.48       165\n",
      "weighted avg       0.57      0.60      0.56       165\n",
      "\n"
     ]
    }
   ],
   "source": [
    "# Merge TDM with pattern matrix if available\n",
    "pattern_df = pd.DataFrame(list(patterns.items()), columns=['Pattern', 'Support'])\n",
    "pattern_df = pattern_df.head(100)\n",
    "\n",
    "pattern_matrix = pd.DataFrame(0, index=np.arange(len(df)), columns=pattern_df['Pattern'])\n",
    "augmented_df = pd.concat([pd.DataFrame(X_counts.toarray()), pattern_matrix], axis=1)\n",
    "\n",
    "# Convert column names to strings\n",
    "augmented_df.columns = augmented_df.columns.astype(str)\n",
    "\n",
    "# Split, train, and evaluate\n",
    "X_train, X_test, y_train, y_test = train_test_split(\n",
    "    augmented_df, df['Sentiment'], test_size=0.2, random_state=42\n",
    ")\n",
    "\n",
    "nb.fit(X_train, y_train)\n",
    "y_pred = nb.predict(X_test)\n",
    "\n",
    "print(\"Accuracy with Augmented Data:\", accuracy_score(y_test, y_pred))\n",
    "print(\"\\nClassification Report:\\n\", classification_report(y_test, y_pred))\n"
   ]
  },
  {
   "cell_type": "markdown",
   "metadata": {},
   "source": []
  },
  {
   "cell_type": "code",
   "execution_count": 146,
   "metadata": {},
   "outputs": [
    {
     "name": "stdout",
     "output_type": "stream",
     "text": [
      "Decision Tree Accuracy: 0.49696969696969695\n",
      "\n",
      "Classification Report:\n",
      "               precision    recall  f1-score   support\n",
      "\n",
      "        -1.0       0.48      0.53      0.50        59\n",
      "         0.0       0.54      0.64      0.59        77\n",
      "         1.0       0.20      0.07      0.10        29\n",
      "\n",
      "    accuracy                           0.50       165\n",
      "   macro avg       0.41      0.41      0.40       165\n",
      "weighted avg       0.46      0.50      0.47       165\n",
      "\n"
     ]
    }
   ],
   "source": [
    "dt = DecisionTreeClassifier(random_state=42)\n",
    "dt.fit(X_train, y_train)\n",
    "y_pred_dt = dt.predict(X_test)\n",
    "\n",
    "print(\"Decision Tree Accuracy:\", accuracy_score(y_test, y_pred_dt))\n",
    "print(\"\\nClassification Report:\\n\", classification_report(y_test, y_pred_dt))\n"
   ]
  },
  {
   "cell_type": "markdown",
   "metadata": {},
   "source": [
    " # Interpretation\n",
    "\n",
    "When I compared the Decision Tree results to Naive Bayes, I noticed that the accuracy and F1-scores were lower.\n",
    "This happens because Decision Trees struggle with sparse, high-dimensional data, like bag-of-words matrices.\n",
    "Naive Bayes assumes word independence and is more suitable for text classification, giving better generalization and faster training."
   ]
  },
  {
   "cell_type": "markdown",
   "metadata": {},
   "source": [
    "# Evaluation and Insights"
   ]
  },
  {
   "cell_type": "markdown",
   "metadata": {},
   "source": [
    "# Exercise 23 – Why Decision Tree Performs Worse than Naive Bayes"
   ]
  },
  {
   "cell_type": "raw",
   "metadata": {},
   "source": [
    "Decision Trees overfit and struggle with high-dimensional sparse data like text.\n",
    "Naive Bayes handles word probabilities better, is faster, and generalizes well — making it more suitable for text classification."
   ]
  },
  {
   "cell_type": "markdown",
   "metadata": {},
   "source": [
    "# Exercise 24 – Using Augmented Data (TDM + Patterns)"
   ]
  },
  {
   "cell_type": "raw",
   "metadata": {},
   "source": [
    "Accuracy improved slightly with augmented data since frequent patterns added meaningful features.\n",
    "However, it may not always outperform Naive Bayes because extra features can introduce noise.\n",
    "Result: Small improvement, but Naive Bayes remains more consistent."
   ]
  },
  {
   "cell_type": "markdown",
   "metadata": {},
   "source": [
    "# Exercise 25 – Choosing the Best Model"
   ]
  },
  {
   "cell_type": "raw",
   "metadata": {},
   "source": [
    "The best model depends on:\n",
    "\n",
    "1.Dataset size and feature type\n",
    "\n",
    "2.Model accuracy and generalization\n",
    "\n",
    "3.Simplicity and interpretability\n",
    "\n",
    "In text classification tasks, Naive Bayes is often preferred for its speed, simplicity, and strong performance on sparse text data."
   ]
  },
  {
   "cell_type": "markdown",
   "metadata": {},
   "source": [
    "# Conclusion"
   ]
  },
  {
   "cell_type": "raw",
   "metadata": {},
   "source": [
    "In this lab, I applied various text mining and machine learning techniques to analyze sentiment data.\n",
    "I explored frequent pattern mining using the FAE algorithm, visualized text similarity with PCA, t-SNE, and UMAP, and compared model performances.\n",
    "Among all tested models, Naive Bayes achieved the best accuracy and generalization for sparse text data.\n",
    "This experiment demonstrated how probabilistic models can outperform complex tree-based methods in text classification tasks."
   ]
  },
  {
   "cell_type": "markdown",
   "metadata": {},
   "source": [
    "# References"
   ]
  },
  {
   "cell_type": "markdown",
   "metadata": {},
   "source": [
    "Scikit-learn Documentation. Text feature extraction (TF-IDF, CountVectorizer, Naive Bayes).\n",
    "Available at: https://scikit-learn.org/stable/modules/feature_extraction.html\n",
    "\n",
    "Manning, C. D., Raghavan, P., & Schütze, H. (2008). Introduction to Information Retrieval. Cambridge University Press.\n",
    "→ Covers TF-IDF, cosine similarity, and probabilistic text classification.\n",
    "\n",
    "Han, J., Kamber, M., & Pei, J. (2012). Data Mining: Concepts and Techniques. Morgan Kaufmann.\n",
    "→ Explains frequent pattern mining and classification models.\n",
    "\n",
    "PAMI Library (2025). Pattern Mining in Python (PAMI) Documentation.\n",
    "Available at: https://pypi.org/project/PAMI/"
   ]
  }
 ],
 "metadata": {
  "kernelspec": {
   "display_name": "Python 3 (ipykernel)",
   "language": "python",
   "name": "python3"
  },
  "language_info": {
   "codemirror_mode": {
    "name": "ipython",
    "version": 3
   },
   "file_extension": ".py",
   "mimetype": "text/x-python",
   "name": "python",
   "nbconvert_exporter": "python",
   "pygments_lexer": "ipython3",
   "version": "3.11.0"
  }
 },
 "nbformat": 4,
 "nbformat_minor": 4
}
